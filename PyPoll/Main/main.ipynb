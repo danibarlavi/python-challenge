{
 "cells": [
  {
   "cell_type": "code",
   "execution_count": 1,
   "metadata": {},
   "outputs": [],
   "source": [
    "# Modules\n",
    "import os\n",
    "import csv\n",
    "import pathlib\n",
    "import pandas as pd\n",
    "\n",
    "#Set path for file\n",
    "csvpath = os.path.join('..', 'Resources', 'election_data.csv')\n",
    "\n",
    "# Open the CSV\n",
    "with open(csvpath) as csvfile:\n",
    "    electiondata = pd.read_csv(csvfile)"
   ]
  },
  {
   "cell_type": "code",
   "execution_count": 2,
   "metadata": {},
   "outputs": [],
   "source": [
    "#Find total number of votes cast by counting the rows in the dataset\n",
    "\n",
    "total_votes = len(electiondata)\n",
    "\n",
    "#print(\"Total Votes:\", total_votes)"
   ]
  },
  {
   "cell_type": "code",
   "execution_count": 3,
   "metadata": {},
   "outputs": [],
   "source": [
    "#Find a list of candidates using unique function\n",
    "\n",
    "unique_candidates = electiondata['Candidate'].unique()\n",
    "\n",
    "#print(unique_candidates)"
   ]
  },
  {
   "cell_type": "code",
   "execution_count": 4,
   "metadata": {},
   "outputs": [],
   "source": [
    "#Find number of votes for each candidate and then render it as a percentage of total votes\n",
    "count_stockham = (electiondata['Candidate'] == 'Charles Casper Stockham').sum()\n",
    "percentage_stockham = ((count_stockham / total_votes) * 100).round(3)\n",
    "\n",
    "count_degette = (electiondata['Candidate'] == 'Diana DeGette').sum()\n",
    "percentage_degette = ((count_degette / total_votes) * 100).round(3)\n",
    "\n",
    "count_doane = (electiondata['Candidate'] == 'Raymon Anthony Doane').sum()\n",
    "percentage_doane = ((count_doane / total_votes) * 100).round(3)"
   ]
  },
  {
   "cell_type": "code",
   "execution_count": 5,
   "metadata": {},
   "outputs": [],
   "source": [
    "#Find winner by popular vote using value_counts and idxmax\n",
    "\n",
    "winner = electiondata['Candidate'].value_counts().idxmax()"
   ]
  },
  {
   "cell_type": "code",
   "execution_count": 10,
   "metadata": {},
   "outputs": [
    {
     "name": "stdout",
     "output_type": "stream",
     "text": [
      "Election Results\n",
      "----------------\n",
      "Total Votes: 369711\n",
      "----------------\n",
      "Charles Casper Stockham: 23.049 % ( 85213 votes)\n",
      "Diana DeGette: 73.812 % ( 272892 votes)\n",
      "Raymon Anthony Doane: 3.139 % ( 11606 votes)\n",
      "----------------\n",
      "Diana DeGette won the Election\n",
      "Output saved to ../analysis/output.txt\n"
     ]
    }
   ],
   "source": [
    "# Print the analysis to terminal\n",
    "\n",
    "print('Election Results')\n",
    "print('----------------')\n",
    "print('Total Votes:', total_votes)\n",
    "print('----------------')\n",
    "print('Charles Casper Stockham:', percentage_stockham, '% (', count_stockham, 'votes)')\n",
    "print('Diana DeGette:', percentage_degette, '% (', count_degette, 'votes)')\n",
    "print('Raymon Anthony Doane:', percentage_doane, '% (', count_doane, 'votes)')\n",
    "print('----------------')\n",
    "print(winner, 'won the Election')\n",
    "\n",
    "#Save as text file.\n",
    "filepath = '../analysis/output.txt'\n",
    "with open(filepath, 'w') as f:\n",
    "    f.write(\"Election Results:\\n\"\n",
    "            \"Total Votes: \" + str(total_votes) + \"\\n\"\n",
    "            \"Charles Casper Stockham: \" + str(percentage_stockham) + \"% (\" + str(count_stockham) + \" votes)\\n\"\n",
    "            \"Diana DeGette: \" + str(percentage_degette) + \"% (\" + str(count_degette) + \" votes)\\n\"\n",
    "            \"Raymon Anthony Doane: \" + str(percentage_doane) + \"% (\" + str(count_doane) + \" votes)\\n\"\n",
    "            + str(winner) + \" won the Election\\n\")\n",
    "\n",
    "print(f\"Output saved to {filepath}\")"
   ]
  },
  {
   "cell_type": "code",
   "execution_count": null,
   "metadata": {},
   "outputs": [],
   "source": []
  }
 ],
 "metadata": {
  "kernelspec": {
   "display_name": "base",
   "language": "python",
   "name": "python3"
  },
  "language_info": {
   "codemirror_mode": {
    "name": "ipython",
    "version": 3
   },
   "file_extension": ".py",
   "mimetype": "text/x-python",
   "name": "python",
   "nbconvert_exporter": "python",
   "pygments_lexer": "ipython3",
   "version": "3.11.7"
  }
 },
 "nbformat": 4,
 "nbformat_minor": 2
}
