{
 "cells": [
  {
   "cell_type": "code",
   "execution_count": 1,
   "metadata": {},
   "outputs": [],
   "source": [
    "# Modules\n",
    "import os\n",
    "import csv\n",
    "import pathlib\n",
    "import pandas as pd\n",
    "\n",
    "#Set path for file\n",
    "csvpath = os.path.join('..', 'Resources', 'budget_data.csv')\n",
    "\n",
    "# Open the CSV\n",
    "with open(csvpath) as csvfile:\n",
    "    csvreader = pd.read_csv(csvfile)\n",
    "\n",
    "#Count number of lines in the dataset to find the total number of months in the dataset\n",
    "total_months = len(csvreader)\n",
    "#print(\"Total Months:\", total_months)"
   ]
  },
  {
   "cell_type": "code",
   "execution_count": 2,
   "metadata": {},
   "outputs": [],
   "source": [
    "#Find the sum of profit/loss in the data set\n",
    "profitloss_sum = csvreader[\"Profit/Losses\"].sum()\n",
    "#print(\"Total: $\", profitloss_sum)"
   ]
  },
  {
   "cell_type": "code",
   "execution_count": 3,
   "metadata": {},
   "outputs": [],
   "source": [
    "# Find change in Profit/Loss over entire period\n",
    "profitloss_differences = csvreader[\"Profit/Losses\"].diff()\n",
    "\n",
    "#Find mean of these difference, rounding to the nearest whole cent\n",
    "profitloss_averagechange = round((profitloss_differences.mean(skipna= True)), 2)\n",
    "#print(\"Average Change: $\", profitloss_averagechange)"
   ]
  },
  {
   "cell_type": "code",
   "execution_count": 4,
   "metadata": {},
   "outputs": [],
   "source": [
    "#Add differences as a column to the imported dataframe to reference easily in next step\n",
    "csvreader['Change from last month'] = profitloss_differences\n",
    "#print(csvreader)"
   ]
  },
  {
   "cell_type": "code",
   "execution_count": 5,
   "metadata": {},
   "outputs": [],
   "source": [
    "# Find greatest and greatest decrease in profits over entire period\n",
    "greatest_increase = profitloss_differences.max()\n",
    "greatest_decrease = profitloss_differences.min()\n",
    "\n",
    "# Find the index of the greatest increase and decrease in profits\n",
    "index_of_greatest_increase = profitloss_differences.idxmax()\n",
    "index_of_greatest_decrease = profitloss_differences.idxmin()\n",
    "\n",
    "# Get the dates corresponding to the greatest increase and decrease using index\n",
    "increase_date = csvreader.loc[index_of_greatest_increase, 'Date']\n",
    "decrease_date = csvreader.loc[index_of_greatest_decrease, 'Date']\n",
    "\n",
    "#print(\"Greatest Increase in Profits:\", increase_date, \"$\", greatest_increase)\n",
    "#print(\"Greatest Decrease in Profits:\", decrease_date, \"$\", greatest_decrease)"
   ]
  },
  {
   "cell_type": "code",
   "execution_count": 6,
   "metadata": {},
   "outputs": [
    {
     "name": "stdout",
     "output_type": "stream",
     "text": [
      "Financial Analaysis\n",
      "--------------------\n",
      "Total Months: 86\n",
      "Total: $ 22564198\n",
      "Average Change: $ -8311.11\n",
      "Greatest Increase in Profits: Aug-16 $( 1862002.0 )\n",
      "Greatest Decrease in Profits: Feb-14 $( -1825558.0 )\n",
      "Output saved to ../analysis/output.txt\n"
     ]
    }
   ],
   "source": [
    "#Print to terminal:\n",
    "\n",
    "print('Financial Analaysis')\n",
    "print('--------------------')\n",
    "print(\"Total Months:\", total_months)\n",
    "print(\"Total: $\", profitloss_sum)\n",
    "print(\"Average Change: $\", profitloss_averagechange)\n",
    "print(\"Greatest Increase in Profits:\", increase_date, \"$(\", greatest_increase, \")\")\n",
    "print(\"Greatest Decrease in Profits:\", decrease_date, \"$(\", greatest_decrease, \")\")\n",
    "\n",
    "#Save as text file\n",
    "filepath = '../analysis/output.txt'\n",
    "with open(filepath, 'w') as f:\n",
    "    f.write(\"Financial Analysis:\\n\"\n",
    "            \"Total Months: \" + str(total_months) + \"\\n\"\n",
    "            \"Total: $\" + str(profitloss_sum) + \"\\n\"\n",
    "            \"Average Change: $\" + str(profitloss_averagechange) + \"\\n\"\n",
    "            \"Greatest Increase in Profits: \" + increase_date + \" $(\" + str(greatest_increase) + \")\\n\"\n",
    "            \"Greatest Decrease in Profits: \" + decrease_date + \" $(\" + str(greatest_decrease) + \")\")\n",
    "\n",
    "print(f\"Output saved to {filepath}\")"
   ]
  }
 ],
 "metadata": {
  "kernelspec": {
   "display_name": "base",
   "language": "python",
   "name": "python3"
  },
  "language_info": {
   "codemirror_mode": {
    "name": "ipython",
    "version": 3
   },
   "file_extension": ".py",
   "mimetype": "text/x-python",
   "name": "python",
   "nbconvert_exporter": "python",
   "pygments_lexer": "ipython3",
   "version": "3.11.7"
  }
 },
 "nbformat": 4,
 "nbformat_minor": 2
}
